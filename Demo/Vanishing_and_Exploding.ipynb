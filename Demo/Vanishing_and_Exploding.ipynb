{
  "cells": [
    {
      "cell_type": "markdown",
      "source": [
        "## Import Libraries"
      ],
      "metadata": {
        "id": "kJkpykz2NB2F"
      }
    },
    {
      "cell_type": "code",
      "source": [
        "import numpy as np\n",
        "from numpy.random import randn\n",
        "import matplotlib.pyplot as plt"
      ],
      "metadata": {
        "id": "tns5340Y2pfX"
      },
      "execution_count": null,
      "outputs": []
    },
    {
      "cell_type": "code",
      "execution_count": null,
      "metadata": {
        "id": "jy-hlLZ-cnB9"
      },
      "outputs": [],
      "source": [
        "# Softmax function\n",
        "def softmax(xs):\n",
        "  return np.exp(xs) / sum(np.exp(xs))"
      ]
    },
    {
      "cell_type": "markdown",
      "source": [
        "## A many-to-one Vanilla Recurrent Neural Network."
      ],
      "metadata": {
        "id": "0D5C6fEkNLHk"
      }
    },
    {
      "cell_type": "code",
      "source": [
        "class RNN:\n",
        "  def __init__(self, input_size, output_size, modify_size = 1.0, hidden_size=64):\n",
        "    # Weights\n",
        "    self.Whh = randn(hidden_size, hidden_size) * modify_size\n",
        "    self.Wxh = randn(hidden_size, input_size) * modify_size\n",
        "    self.Why = randn(output_size, hidden_size) * modify_size\n",
        "\n",
        "    # Biases\n",
        "    self.bh = np.zeros((hidden_size, 1))\n",
        "    self.by = np.zeros((output_size, 1))\n",
        "\n",
        "  def forward(self, inputs):\n",
        "    '''\n",
        "    Perform a forward pass of the RNN using the given inputs.\n",
        "    Returns the final output and hidden state.\n",
        "    - inputs is an array of one hot vectors with shape (input_size, 1).\n",
        "    '''\n",
        "    h = np.zeros((self.Whh.shape[0], 1))\n",
        "\n",
        "    self.last_inputs = inputs\n",
        "    self.last_hs = { 0: h }\n",
        "\n",
        "    # Perform each step of the RNN\n",
        "    for i, x in enumerate(inputs):\n",
        "      h = np.tanh(self.Wxh @ x + self.Whh @ h + self.bh)\n",
        "      self.last_hs[i + 1] = h\n",
        "\n",
        "    # Compute the output\n",
        "    y = self.Why @ h + self.by\n",
        "\n",
        "    return y, h\n",
        "\n",
        "  def backprop(self, d_y, learn_rate=2e-2):\n",
        "    '''\n",
        "    Perform a backward pass of the RNN.\n",
        "    - d_y (dL/dy) has shape (output_size, 1).\n",
        "    - learn_rate is a float.\n",
        "    '''\n",
        "    n = len(self.last_inputs)\n",
        "\n",
        "    # Calculate dL/dWhy and dL/dby.\n",
        "    d_Why = d_y @ self.last_hs[n].T\n",
        "    d_by = d_y\n",
        "\n",
        "    # Initialize dL/dWhh, dL/dWxh, and dL/dbh to zero.\n",
        "    d_Whh = np.zeros(self.Whh.shape)\n",
        "    d_Wxh = np.zeros(self.Wxh.shape)\n",
        "    d_bh = np.zeros(self.bh.shape)\n",
        "\n",
        "    # Calculate dL/dh for the last h.\n",
        "    # dL/dh = dL/dy * dy/dh\n",
        "    d_h = self.Why.T @ d_y\n",
        "\n",
        "    grads = [d_h.copy()]\n",
        "\n",
        "    # Backpropagate through time.\n",
        "    for t in reversed(range(n)):\n",
        "      # An intermediate value: dL/dh * (1 - h^2)\n",
        "      temp = ((1 - self.last_hs[t + 1] ** 2) * d_h)\n",
        "\n",
        "      # dL/db = dL/dh * (1 - h^2)\n",
        "      d_bh += temp\n",
        "\n",
        "      # dL/dWhh = dL/dh * (1 - h^2) * h_{t-1}\n",
        "      d_Whh += temp @ self.last_hs[t].T\n",
        "\n",
        "      # dL/dWxh = dL/dh * (1 - h^2) * x\n",
        "      d_Wxh += temp @ self.last_inputs[t].T\n",
        "\n",
        "      # Next dL/dh = dL/dh * (1 - h^2) * Whh\n",
        "      d_h = self.Whh @ temp\n",
        "\n",
        "      grads.append(d_h.copy())\n",
        "\n",
        "    return grads\n",
        "\n",
        "    # Update weights and biases using gradient descent.\n",
        "    self.Whh -= learn_rate * d_Whh\n",
        "    self.Wxh -= learn_rate * d_Wxh\n",
        "    self.Why -= learn_rate * d_Why\n",
        "    self.bh -= learn_rate * d_bh\n",
        "    self.by -= learn_rate * d_by"
      ],
      "metadata": {
        "id": "_Rjb6hEQckXn"
      },
      "execution_count": null,
      "outputs": []
    },
    {
      "cell_type": "markdown",
      "source": [
        "## Generate data"
      ],
      "metadata": {
        "id": "c79Te4ltNSzZ"
      }
    },
    {
      "cell_type": "code",
      "source": [
        "'''\n",
        "- Generate 1 sample to show gradients problem\n",
        "- Input: 100 time-steps, each time-step input is a 100-dimensional vector\n",
        "- Output: 2 classes\n",
        "'''\n",
        "X = np.random.randn(100, 100, 1)\n",
        "y = np.random.randint(0, 2)"
      ],
      "metadata": {
        "id": "TVgBQRGzNVwM"
      },
      "execution_count": null,
      "outputs": []
    },
    {
      "cell_type": "markdown",
      "source": [
        "## Vanishing Problem"
      ],
      "metadata": {
        "id": "7cpw8iUVPAeO"
      }
    },
    {
      "cell_type": "code",
      "source": [
        "# Initialize RNN model with small weights\n",
        "rnn = RNN(100, 2, 1/100)\n",
        "\n",
        "# Forward\n",
        "out, _ = rnn.forward(X)\n",
        "probs = softmax(out)\n",
        "\n",
        "# Build dL/dy\n",
        "d_L_d_y = probs\n",
        "d_L_d_y[y] -= 1\n",
        "\n",
        "# Backward\n",
        "grads = rnn.backprop(d_L_d_y)"
      ],
      "metadata": {
        "id": "FK8fe3QAnREK"
      },
      "execution_count": null,
      "outputs": []
    },
    {
      "cell_type": "code",
      "source": [
        "norm = [np.linalg.norm(grad, 'fro') for grad in grads]\n",
        "norm.reverse()"
      ],
      "metadata": {
        "id": "geheD6PoP1nP"
      },
      "execution_count": null,
      "outputs": []
    },
    {
      "cell_type": "code",
      "source": [
        "plt.plot(range(len(norm)), norm)\n",
        "plt.title('Vanishing gradient')\n",
        "plt.xlabel('Times-step')\n",
        "plt.ylabel('Gradient matrix norm')"
      ],
      "metadata": {
        "colab": {
          "base_uri": "https://localhost:8080/",
          "height": 490
        },
        "id": "pHFeDMeuLdwN",
        "outputId": "f751f892-b976-47c7-bcae-6c6db20cbd0c"
      },
      "execution_count": null,
      "outputs": [
        {
          "output_type": "execute_result",
          "data": {
            "text/plain": [
              "Text(0, 0.5, 'Gradient matrix norm')"
            ]
          },
          "metadata": {},
          "execution_count": 82
        },
        {
          "output_type": "display_data",
          "data": {
            "text/plain": [
              "<Figure size 640x480 with 1 Axes>"
            ],
            "image/png": "[encoded data removed]"
          },
          "metadata": {}
        }
      ]
    },
    {
      "cell_type": "markdown",
      "source": [
        "## Exploding problem"
      ],
      "metadata": {
        "id": "5di16mwWQ7GF"
      }
    },
    {
      "cell_type": "code",
      "source": [
        "# Initialize RNN model with large weights\n",
        "rnn = RNN(100, 2)\n",
        "\n",
        "# Forward\n",
        "out, _ = rnn.forward(X)\n",
        "probs = softmax(out)\n",
        "\n",
        "# Build dL/dy\n",
        "d_L_d_y = probs\n",
        "d_L_d_y[y] -= 1\n",
        "\n",
        "# Backward\n",
        "grads = rnn.backprop(d_L_d_y)"
      ],
      "metadata": {
        "id": "KHVpFqf8Q-e-"
      },
      "execution_count": null,
      "outputs": []
    },
    {
      "cell_type": "code",
      "source": [
        "norm = [np.linalg.norm(grad, 'fro') for grad in grads]\n",
        "norm.reverse()"
      ],
      "metadata": {
        "id": "fq6UgsxORFvM"
      },
      "execution_count": null,
      "outputs": []
    },
    {
      "cell_type": "code",
      "source": [
        "plt.plot(range(len(norm)), norm)\n",
        "plt.title('Vanishing gradient')\n",
        "plt.xlabel('Times-step')\n",
        "plt.ylabel('Gradient matrix norm')"
      ],
      "metadata": {
        "colab": {
          "base_uri": "https://localhost:8080/",
          "height": 490
        },
        "id": "pg8cm3R6RGjm",
        "outputId": "07e6019d-9f6e-4b1a-af4d-9049ccb2ec38"
      },
      "execution_count": null,
      "outputs": [
        {
          "output_type": "execute_result",
          "data": {
            "text/plain": [
              "Text(0, 0.5, 'Gradient matrix norm')"
            ]
          },
          "metadata": {},
          "execution_count": 145
        },
        {
          "output_type": "display_data",
          "data": {
            "text/plain": [
              "<Figure size 640x480 with 1 Axes>"
            ],
            "image/png": "[encoded data removed]"
          },
          "metadata": {}
        }
      ]
    }
  ],
  "metadata": {
    "colab": {
      "provenance": [],
      "toc_visible": true
    },
    "kernelspec": {
      "display_name": "Python 3",
      "name": "python3"
    },
    "language_info": {
      "name": "python"
    }
  },
  "nbformat": 4,
  "nbformat_minor": 0
}